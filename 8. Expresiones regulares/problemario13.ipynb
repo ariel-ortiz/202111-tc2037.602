{
 "cells": [
  {
   "cell_type": "markdown",
   "metadata": {},
   "source": [
    "# Problem Set #13\n",
    "\n",
    "## Tc2037 Implementation of Computational Methods\n",
    "\n",
    "April 26, 2021.\n",
    "\n",
    "_Authors of this notebook’s solution:_\n",
    "\n",
    "- _Student ID and Name:_\n",
    "- _Student ID and Name:_\n",
    "\n",
    "**Instructions:** The following problems start with are sections of different programming language specifications. For each of the following problems:\n",
    "\n",
    "* Draw its DFA state diagram.\n",
    "* Code the corresponding regular expression using Clojure."
   ]
  },
  {
   "cell_type": "code",
   "execution_count": 1,
   "metadata": {},
   "outputs": [
    {
     "data": {
      "text/plain": [
       "nil"
      ]
     },
     "execution_count": 1,
     "metadata": {},
     "output_type": "execute_result"
    }
   ],
   "source": [
    ";; External function required for this notebook.\n",
    "(require '[clojure.test :refer [is]])"
   ]
  },
  {
   "cell_type": "markdown",
   "metadata": {},
   "source": [
    "---\n",
    "\n",
    "## Problem 1\n",
    "\n",
    "**Scheme Integer Literals:** \\[An integer\\] number may be written in binary, octal, decimal, or hexadecimal by the use of a radix prefix. The radix prefixes are `#b` (binary), `#o` (octal), `#d` (decimal), and `#x` (hexadecimal). With no radix prefix, a number is assumed to be expressed in decimal. \\[After the optional radix prefix, the number is comprised of one or more digits taken from the corresponding radix.\\] Note that case is not significant in numerical constants.\n",
    "\n",
    "**Reference:** Shinn, A., Cowan, J., & Gleckler, A. (2020) _Revised$^7$ Report on the Algorithmic Language Scheme_. p. 34."
   ]
  },
  {
   "cell_type": "code",
   "execution_count": 2,
   "metadata": {},
   "outputs": [
    {
     "data": {
      "text/plain": [
       "#'user/scheme-integer"
      ]
     },
     "execution_count": 2,
     "metadata": {},
     "output_type": "execute_result"
    }
   ],
   "source": [
    ";;; Regular expression:\n",
    "(def scheme-integer #\"(?x)\n",
    "    \\d+                   # Decimal without radix prefix\n",
    "  | \\# (  b [01]+         # Radix 2\n",
    "        | o [0-7]+        # Radix 8\n",
    "        | x [0-9A-Fa-f]+  # Radix 16\n",
    "        | d \\d+           # Radix 10\n",
    "       )\n",
    "\")"
   ]
  },
  {
   "cell_type": "code",
   "execution_count": 3,
   "metadata": {},
   "outputs": [
    {
     "data": {
      "text/plain": [
       "true"
      ]
     },
     "execution_count": 3,
     "metadata": {},
     "output_type": "execute_result"
    }
   ],
   "source": [
    ";;; Unit tests:\n",
    "(is (re-matches scheme-integer \"0\"))\n",
    "(is (re-matches scheme-integer \"24601\"))\n",
    "(is (re-matches scheme-integer \"#d1234567890\"))\n",
    "(is (re-matches scheme-integer \"#b10\"))\n",
    "(is (re-matches scheme-integer \"#o12345670\"))\n",
    "(is (re-matches scheme-integer \"#x1234567890abcdefABCDEF\"))\n",
    "(is (not (re-matches scheme-integer \"\")))\n",
    "(is (not (re-matches scheme-integer \"#123\")))\n",
    "(is (not (re-matches scheme-integer \"#da1234567890\")))\n",
    "(is (not (re-matches scheme-integer \"#b102\")))\n",
    "(is (not (re-matches scheme-integer \"#o123456780\")))\n",
    "(is (not (re-matches scheme-integer \"#x1234567890abcdefgABCDEF\")))"
   ]
  },
  {
   "cell_type": "markdown",
   "metadata": {},
   "source": [
    "---\n",
    "\n",
    "## Problem 2\n",
    "\n",
    "**Java Integer Literals:** An _integer literal_ may be expressed in decimal (base 10), hexadecimal (base 16), or octal (base 8). An integer literal is of type `long` if it is suffixed with an ASCII letter `L` or `l` (ell); otherwise it is of type `int`. The suffix `L` is preferred, because the letter `l` (ell) is often hard to distinguish from the digit `1` (one).\n",
    "\n",
    "A decimal numeral is either the single ASCII character `0`, representing the integer zero, or consists of an ASCII digit from `1` to `9`, optionally followed by one or more ASCII digits from `0` to `9`.\n",
    "\n",
    "An hexadecimal numeral consists of the leading ASCII characters `0x` or `0X` followed by one or more ASCII hexadecimal digits. Hexadecimal digits with values 10 through 15 are represented by the ASCII letters `a` through `f` or `A` through `F`, respectively; each letter used as a hexadecimal digit may be uppercase or lowercase.\n",
    "\n",
    "An octal numeral consists of an ASCII digit `0` followed by one or more of the ASCII digits `0` through `7`.\n",
    "\n",
    "Note that octal numerals always consist of two or more digits; `0` is always considered to be a decimal numeral-not that it matters much in practice, for the numerals `0`, `00`, and `0x0` all represent exactly the same integer value.\n",
    "\n",
    "**Reference:** Gosling, J., Joy, B., Steele, G., & Brache, G. (2005) _The Java Language Specification, Third Edition_. Addison-Wesley. pp. 22-23.\n",
    "\n"
   ]
  },
  {
   "cell_type": "code",
   "execution_count": null,
   "metadata": {},
   "outputs": [],
   "source": [
    ";;; Regular expression:\n",
    "(def java-integer #\"\")"
   ]
  },
  {
   "cell_type": "code",
   "execution_count": null,
   "metadata": {},
   "outputs": [],
   "source": [
    ";;; Unit tests:\n",
    "(is (re-matches java-integer \"0\"))\n",
    "(is (re-matches java-integer \"1234567890\"))\n",
    "(is (re-matches java-integer \"012345670\"))\n",
    "(is (re-matches java-integer \"0xabcdef1234567890ABCDEF\"))\n",
    "(is (re-matches java-integer \"0l\"))\n",
    "(is (re-matches java-integer \"1234567890l\"))\n",
    "(is (re-matches java-integer \"012345670L\"))\n",
    "(is (re-matches java-integer \"0Xabcde1234567890fABCDEFL\"))\n",
    "(is (not (re-matches java-integer \"\")))\n",
    "(is (not (re-matches java-integer \"L\")))\n",
    "(is (not (re-matches java-integer \"1a234567890\")))\n",
    "(is (not (re-matches java-integer \"0123456780\")))\n",
    "(is (not (re-matches java-integer \"0x1234567890abcdefgABCDEF\")))"
   ]
  },
  {
   "cell_type": "markdown",
   "metadata": {},
   "source": [
    "---\n",
    "\n",
    "## Problem 3\n",
    "\n",
    "**Java Floating-Point Literals:** A _floating-point literal_ has the following parts: a whole-number part, a decimal point (represented by an ASCII period character), a fractional part, an exponent, and a type suffix. The exponent, if present, is indicated by the ASCII letter `e` or `E` followed by an optionally signed integer. \n",
    "\n",
    "At least one digit, in either the whole number or the fraction part, and either a decimal point, an exponent, or a float type suffix are required. All other parts are optional. \n",
    "\n",
    "A floating-point literal is of type `float` if it is suffixed with an ASCII letter `F` or `f`; otherwise its type is\n",
    "`double` and it can optionally be suffixed with an ASCII letter `D` or `d`.\n",
    "\n",
    "**Reference:** Gosling, J., Joy, B., Steele, G., & Brache, G. (2000) _The Java Language Specification, Second Edition_. Addison-Wesley. p. 24."
   ]
  },
  {
   "cell_type": "code",
   "execution_count": null,
   "metadata": {},
   "outputs": [],
   "source": [
    ";;; Regular expression:\n",
    "(def java-float #\"\")"
   ]
  },
  {
   "cell_type": "code",
   "execution_count": null,
   "metadata": {},
   "outputs": [],
   "source": [
    ";;; Unit tests:\n",
    "(is (re-matches java-float \"1.\"))\n",
    "(is (re-matches java-float \".2\"))\n",
    "(is (re-matches java-float \"3e4\"))\n",
    "(is (re-matches java-float \"5e-6\"))\n",
    "(is (re-matches java-float \"7e+8\"))\n",
    "(is (re-matches java-float \"9F\"))\n",
    "(is (re-matches java-float \"1f\"))\n",
    "(is (re-matches java-float \"2D\"))\n",
    "(is (re-matches java-float \"3d\"))\n",
    "(is (re-matches java-float \"1.2\"))\n",
    "(is (re-matches java-float \"1234.E567\"))\n",
    "(is (re-matches java-float \"1234.E-567\"))\n",
    "(is (re-matches java-float \"1234.E+567\"))\n",
    "(is (re-matches java-float \".1234E567\"))\n",
    "(is (re-matches java-float \".1234E-567\"))\n",
    "(is (re-matches java-float \".1234E+567\"))\n",
    "(is (re-matches java-float \"123.\"))\n",
    "(is (re-matches java-float \".4567\"))\n",
    "(is (re-matches java-float \"123.4567\"))\n",
    "(is (re-matches java-float \"123.4567E890\"))\n",
    "(is (re-matches java-float \"123.4567E-890\"))\n",
    "(is (re-matches java-float \"123.4567E+890\"))\n",
    "(is (re-matches java-float \"123.F\"))\n",
    "(is (re-matches java-float \".4567f\"))\n",
    "(is (re-matches java-float \"123.4567D\"))\n",
    "(is (re-matches java-float \"123.4567E890d\"))\n",
    "(is (re-matches java-float \"123.4567E-890F\"))\n",
    "(is (re-matches java-float \"123.4567E+890f\"))\n",
    "(is (re-matches java-float \"1234e567\"))\n",
    "(is (re-matches java-float \"1234e-567\"))\n",
    "(is (re-matches java-float \"1234e+567\"))\n",
    "(is (re-matches java-float \"12345678F\"))\n",
    "(is (re-matches java-float \"12345678f\"))\n",
    "(is (re-matches java-float \"12345678D\"))\n",
    "(is (re-matches java-float \"12345678d\"))\n",
    "(is (not (re-matches java-float \".\")))\n",
    "(is (not (re-matches java-float \"0\")))\n",
    "(is (not (re-matches java-float \"1234\")))\n",
    "(is (not (re-matches java-float \"-1234\")))\n",
    "(is (not (re-matches java-float \"e1234\")))\n",
    "(is (not (re-matches java-float \"E-1234\")))\n",
    "(is (not (re-matches java-float \"F\")))\n",
    "(is (not (re-matches java-float \"f\")))\n",
    "(is (not (re-matches java-float \"d\")))\n",
    "(is (not (re-matches java-float \"D\")))\n",
    "(is (not (re-matches java-float \"E\")))\n",
    "(is (not (re-matches java-float \"e\")))\n",
    "(is (not (re-matches java-float \"123..456\")))\n",
    "(is (not (re-matches java-float \"123.456.789\")))\n",
    "(is (not (re-matches java-float \"123456E78.90\")))\n",
    "(is (not (re-matches java-float \"123.456E78.90\")))\n",
    "(is (not (re-matches java-float \"123.456E78DF\")))\n",
    "(is (not (re-matches java-float \"-123.4567E890\")))\n",
    "(is (not (re-matches java-float \"+123.4567E890\")))\n",
    "(is (not (re-matches java-float \"0x1234\")))\n",
    "(is (not (re-matches java-float \"01234\")))\n",
    "(is (not (re-matches java-float \"123E\")))"
   ]
  }
 ],
 "metadata": {
  "kernelspec": {
   "display_name": "Clojure (clojupyter=0.3.2=1)",
   "language": "clojure",
   "name": "conda-clojupyter"
  },
  "language_info": {
   "file_extension": ".clj",
   "mimetype": "text/x-clojure",
   "name": "clojure",
   "version": "1.10.1"
  }
 },
 "nbformat": 4,
 "nbformat_minor": 4
}
