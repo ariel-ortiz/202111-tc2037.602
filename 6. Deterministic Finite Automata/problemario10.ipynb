{
 "cells": [
  {
   "cell_type": "markdown",
   "metadata": {},
   "source": [
    "# Problem Set #10\n",
    "\n",
    "## Tc2037 Implementation of Computational Methods\n",
    "\n",
    "April 8, 2021.\n",
    "\n",
    "_Authors of this notebook’s solution:_\n",
    "\n",
    "- _Student ID and Name:_\n",
    "- _Student ID and Name:_\n",
    "\n",
    "**Instructions:** Follow the indications contained in this notebook. Complete the code where required."
   ]
  },
  {
   "cell_type": "code",
   "execution_count": 1,
   "metadata": {},
   "outputs": [
    {
     "data": {
      "text/plain": [
       "nil"
      ]
     },
     "execution_count": 1,
     "metadata": {},
     "output_type": "execute_result"
    }
   ],
   "source": [
    ";; External function required for this notebook.\n",
    "(require '[clojure.test :refer [is]])"
   ]
  },
  {
   "cell_type": "markdown",
   "metadata": {},
   "source": [
    "## Automaton\n",
    "\n",
    "The term “automaton” is derived from the Greek word “αὐτόματον” which means “self-acting”. An automaton (_automata_ in plural) is an abstract self-propelled computing device which follows a predetermined sequence of operations automatically."
   ]
  },
  {
   "cell_type": "markdown",
   "metadata": {},
   "source": [
    "## Finite Automaton\n",
    "\n",
    "An automaton with a finite number of states is called a _Finite Automaton_ (FA) or _Finite State Machine_ (FSM).\n",
    "\n",
    "Formally, a finite automaton can be represented by a 5-tuple $(Q, \\Sigma, \\delta, q_0, F)$, where: \n",
    "\n",
    "* $Q$ is a finite set of states.  \n",
    "* $\\Sigma$ is a finite set of symbols, called the _alphabet_ of the automaton.\n",
    "* $\\delta$ is the transition function.  \n",
    "* $q_0$ is the initial state from where any input is processed ($q_0 \\in Q$).\n",
    "* $F$ is a set of final states ($F \\subseteq  Q$). \n",
    "\n",
    "Finite automaton can be classified into two types:\n",
    "\n",
    "* _Deterministic Finite Automaton_ (DFA) \n",
    "* _Non-deterministic Finite Automaton_ (NFA) "
   ]
  },
  {
   "cell_type": "markdown",
   "metadata": {},
   "source": [
    "## Additional Terminology\n",
    "\n",
    "* **Alphabet**: An alphabet is any finite set of symbols. \n",
    "For example, $\\Sigma = \\{ a, b \\}$, where $a$ and $b$ are symbols.\n",
    "\n",
    "* **String**: A string is a finite sequence of symbols taken from $\\Sigma$. For example, $abba$ is a valid string on the alphabet $\\Sigma = \\{a, b \\}$.\n",
    "\n",
    "* **Length of a String**: It is the number of symbols present in a string $S$ and it is denoted by $|S|$. Examples:\n",
    "  * If $S = abba$, $|S|= 4$   \n",
    "  \n",
    "  * If $|S|= 0$, it is called an _empty string_ and is denoted by $\\varepsilon$.  \n",
    "  \n",
    "* **Kleen Star**: The Kleene star $\\Sigma^*$, is a unary operator on a set of symbols or strings $\\Sigma$, that gives the infinite set of all possible strings of all possible lengths over $\\Sigma$, including $\\varepsilon$. For example, if $\\Sigma = \\{ a, b \\}$, then $\\Sigma^* = \\{ \\varepsilon, a, b, aa, ab, ba, bb, aaa, \\ldots \\}$.\n",
    "\n",
    "* **Kleen Plus**: The set $\\Sigma^+$ is the infinite set of all possible strings of all possible lengths over $\\Sigma$, excluding $\\varepsilon$. For example, if $\\Sigma = \\{ a, b \\}$, then $\\Sigma^+ = \\{ a, b, aa, ab, ba, bb, aaa, \\ldots \\}$.\n",
    "\n",
    "* **Language**: A language $L$ is a subset of $\\Sigma^*$ for some alphabet $\\Sigma$. It can be finite or infinite.  For example, if the language takes all possible strings of length 2 over $\\Sigma = \\{ a, b \\}$, then $L = \\{ aa, ab, ba, bb \\}$. "
   ]
  },
  {
   "cell_type": "markdown",
   "metadata": {},
   "source": [
    "## Deterministic Finite Automaton (DFA)\n",
    "\n",
    "In a DFA, for each input symbol, one can determine the state to which the machine will move. Hence, it is called _Deterministic Automaton_. As it has a finite number of states, the machine is called _Deterministic Finite Automaton_.\n",
    "\n",
    "A DFA is represented by a directed graph called _state diagram_.  \n",
    "\n",
    "* The vertices represent the states.\n",
    "* The arcs labeled with an input alphabet show the transitions.  \n",
    "* The initial state is denoted by an empty single incoming arc. \n",
    "* The final state is indicated by double circles."
   ]
  },
  {
   "cell_type": "markdown",
   "metadata": {},
   "source": [
    "## DFA Example\n",
    "\n",
    "We have the following DFA:\n",
    "\n",
    "* $Q = \\{ q_0, q_1, q_2 \\}$   \n",
    "* $\\Sigma = \\{ a, b\\}$\n",
    "* $q_0 =$ Initial state\n",
    "* $F = \\{ q_2 \\}$\n",
    "* This table shows the transition function $\\delta$:\n",
    "\n",
    "| Current State | Next state for input $a$ | Next state for input $b$ |\n",
    "|:-------------:|:------------------------:|:------------------------:|\n",
    "|     $q_0$     |           $q_1$          |           $q_0$          |\n",
    "|     $q_1$     |           $q_1$          |           $q_2$          |\n",
    "|     $q_2$     |           $q_2$          |           $q_2$          |"
   ]
  },
  {
   "attachments": {
    "bbe061df-551e-49e4-b41b-fc5a94e79b18.png": {
     "image/png": "[encoded data removed]"
    }
   },
   "cell_type": "markdown",
   "metadata": {},
   "source": [
    "And this is the corresponding state diagram:\n",
    "\n",
    "![Screenshot 2021-04-07 13.02.32.png](attachment:bbe061df-551e-49e4-b41b-fc5a94e79b18.png)"
   ]
  },
  {
   "cell_type": "markdown",
   "metadata": {},
   "source": [
    "## Exercise A\n",
    "\n",
    "1. _Indicate if the machine **accepts** or **rejects** the following strings:_\n",
    "\n",
    "|    | String | Accepts | Rejects |\n",
    "|----|--------|:-------:|:-------:|\n",
    "| a) |   $a$  |         |    x    |\n",
    "| b) |  $ab$  |    x    |         |\n",
    "| c) |  $baa$ |         |    x    |\n",
    "| d) | $abba$ |    x    |         |\n",
    "| e) | $aaab$ |    x    |         |\n",
    "| f) | $bbba$ |         |    x    |\n",
    "\n",
    "2. _Describe in your own words the strings accepted by this machine._ This DFA accepts any string that contains the subsequence $ab$."
   ]
  },
  {
   "cell_type": "markdown",
   "metadata": {},
   "source": [
    "## DFA Simulation"
   ]
  },
  {
   "cell_type": "markdown",
   "metadata": {},
   "source": [
    "We define a record to represent the information related to the transition function $\\delta$."
   ]
  },
  {
   "cell_type": "code",
   "execution_count": 2,
   "metadata": {},
   "outputs": [
    {
     "data": {
      "text/plain": [
       "user.Rule"
      ]
     },
     "execution_count": 2,
     "metadata": {},
     "output_type": "execute_result"
    }
   ],
   "source": [
    "(defrecord Rule [state character next-state])"
   ]
  },
  {
   "cell_type": "markdown",
   "metadata": {},
   "source": [
    "The transition function for a DFA can be represented as a vector of `Rule` objects, which will be referred from now as a _rulebook_. For the previous DFA example it would look like this:"
   ]
  },
  {
   "cell_type": "code",
   "execution_count": 3,
   "metadata": {},
   "outputs": [
    {
     "data": {
      "text/plain": [
       "#'user/rb-example1"
      ]
     },
     "execution_count": 3,
     "metadata": {},
     "output_type": "execute_result"
    }
   ],
   "source": [
    "(def rb-example1 [(->Rule 0 \\a 1)\n",
    "                  (->Rule 0 \\b 0)\n",
    "                  (->Rule 1 \\a 1)\n",
    "                  (->Rule 1 \\b 2)\n",
    "                  (->Rule 2 \\a 2)\n",
    "                  (->Rule 2 \\b 2)])"
   ]
  },
  {
   "cell_type": "markdown",
   "metadata": {},
   "source": [
    "We now need some code to establish a simple API for rules.\n",
    "\n",
    "For a given rule, the `applies-to?` function returns `true` or `false` to indicate whether that rule applies in a particular situation given a state and a character."
   ]
  },
  {
   "cell_type": "code",
   "execution_count": 4,
   "metadata": {},
   "outputs": [
    {
     "data": {
      "text/plain": [
       "#'user/applies-to?"
      ]
     },
     "execution_count": 4,
     "metadata": {},
     "output_type": "execute_result"
    }
   ],
   "source": [
    "(defn applies-to?\n",
    "  [rule state character]\n",
    "  (and (= (:state rule) state)\n",
    "       (= (:character rule) character)))"
   ]
  },
  {
   "cell_type": "code",
   "execution_count": 5,
   "metadata": {},
   "outputs": [
    {
     "data": {
      "text/plain": [
       "true"
      ]
     },
     "execution_count": 5,
     "metadata": {},
     "output_type": "execute_result"
    }
   ],
   "source": [
    "(let [r1 (->Rule 0 \\a 1)\n",
    "      r2 (->Rule 1 \\b 2)]\n",
    "  (is (applies-to? r1 0 \\a))\n",
    "  (is (applies-to? r2 1 \\b))\n",
    "  (is (not (applies-to? r1 0 \\b)))\n",
    "  (is (not (applies-to? r2 2 \\a))))"
   ]
  },
  {
   "cell_type": "markdown",
   "metadata": {},
   "source": [
    "The `follow` function returns the state that the machine should change to when a rule is followed."
   ]
  },
  {
   "cell_type": "code",
   "execution_count": 6,
   "metadata": {},
   "outputs": [
    {
     "data": {
      "text/plain": [
       "#'user/follow"
      ]
     },
     "execution_count": 6,
     "metadata": {},
     "output_type": "execute_result"
    }
   ],
   "source": [
    "(defn follow\n",
    "  [rule]\n",
    "  (:next-state rule))"
   ]
  },
  {
   "cell_type": "code",
   "execution_count": 7,
   "metadata": {},
   "outputs": [
    {
     "data": {
      "text/plain": [
       "true"
      ]
     },
     "execution_count": 7,
     "metadata": {},
     "output_type": "execute_result"
    }
   ],
   "source": [
    "(let [r1 (->Rule 0 \\a 1)\n",
    "      r2 (->Rule 1 \\b 2)]\n",
    "  (is (= 1 (follow r1)))\n",
    "  (is (= 2 (follow r2))))"
   ]
  },
  {
   "cell_type": "markdown",
   "metadata": {},
   "source": [
    "We now define a record to represent a deterministic finite automaton."
   ]
  },
  {
   "cell_type": "code",
   "execution_count": 8,
   "metadata": {},
   "outputs": [
    {
     "data": {
      "text/plain": [
       "user.DFA"
      ]
     },
     "execution_count": 8,
     "metadata": {},
     "output_type": "execute_result"
    }
   ],
   "source": [
    "(defrecord DFA [current-state accept-states rulebook])"
   ]
  },
  {
   "cell_type": "markdown",
   "metadata": {},
   "source": [
    "The `rule-for` function finds the specific `Rule` object contained in a rulebook that can be applied to a given state and character. We will assume that there is exactly one rule that meets this criteria."
   ]
  },
  {
   "cell_type": "code",
   "execution_count": 9,
   "metadata": {},
   "outputs": [
    {
     "data": {
      "text/plain": [
       "#'user/rule-for"
      ]
     },
     "execution_count": 9,
     "metadata": {},
     "output_type": "execute_result"
    }
   ],
   "source": [
    "(defn rule-for\n",
    "  [rulebook state character]\n",
    "  ;;; your code goes here\n",
    "  (some #(if (applies-to? % state character) % nil)\n",
    "        rulebook))"
   ]
  },
  {
   "cell_type": "code",
   "execution_count": 10,
   "metadata": {},
   "outputs": [
    {
     "data": {
      "text/plain": [
       "true"
      ]
     },
     "execution_count": 10,
     "metadata": {},
     "output_type": "execute_result"
    }
   ],
   "source": [
    "(let [r1 (->Rule 0 \\a 1)\n",
    "      r2 (->Rule 1 \\b 2)\n",
    "      r3 (->Rule 2 \\a 2)]\n",
    "  (is (= r1 (rule-for rb-example1 0 \\a)))\n",
    "  (is (= r2 (rule-for rb-example1 1 \\b)))\n",
    "  (is (= r3 (rule-for rb-example1 2 \\a))))"
   ]
  },
  {
   "cell_type": "markdown",
   "metadata": {},
   "source": [
    "The `next_state` function uses the `rule-for` and `follow` functions to locate the correct rule and discover what the next state of the DFA should be."
   ]
  },
  {
   "cell_type": "code",
   "execution_count": 11,
   "metadata": {},
   "outputs": [
    {
     "data": {
      "text/plain": [
       "#'user/next-state"
      ]
     },
     "execution_count": 11,
     "metadata": {},
     "output_type": "execute_result"
    }
   ],
   "source": [
    "(defn next-state \n",
    "  [rulebook state character]\n",
    "  (follow (rule-for rulebook state character)))"
   ]
  },
  {
   "cell_type": "code",
   "execution_count": 12,
   "metadata": {},
   "outputs": [
    {
     "data": {
      "text/plain": [
       "true"
      ]
     },
     "execution_count": 12,
     "metadata": {},
     "output_type": "execute_result"
    }
   ],
   "source": [
    "(is (= 1 (next-state rb-example1 0 \\a)))\n",
    "(is (= 0 (next-state rb-example1 0 \\b)))\n",
    "(is (= 2 (next-state rb-example1 1 \\b)))"
   ]
  },
  {
   "cell_type": "markdown",
   "metadata": {},
   "source": [
    "The `accepting?` function checks if the current state of a DFA object is an accepting state."
   ]
  },
  {
   "cell_type": "code",
   "execution_count": 13,
   "metadata": {},
   "outputs": [
    {
     "data": {
      "text/plain": [
       "#'user/accepting?"
      ]
     },
     "execution_count": 13,
     "metadata": {},
     "output_type": "execute_result"
    }
   ],
   "source": [
    "(defn accepting?\n",
    "  [dfa]\n",
    "  (contains? (:accept-states dfa) (:current-state dfa)))"
   ]
  },
  {
   "cell_type": "code",
   "execution_count": 14,
   "metadata": {},
   "outputs": [
    {
     "data": {
      "text/plain": [
       "true"
      ]
     },
     "execution_count": 14,
     "metadata": {},
     "output_type": "execute_result"
    }
   ],
   "source": [
    "(let [dfa1 (->DFA 0 #{0 2} rb-example1)\n",
    "      dfa2 (->DFA 0 #{2} rb-example1)]\n",
    "  (is (accepting? dfa1))\n",
    "  (is (not (accepting? dfa2))))"
   ]
  },
  {
   "cell_type": "markdown",
   "metadata": {},
   "source": [
    "The `process-character` function takes an input character, consults the rulebook from the given DFA, and returns a new DFA with its current state updated accordingly."
   ]
  },
  {
   "cell_type": "code",
   "execution_count": 15,
   "metadata": {},
   "outputs": [
    {
     "data": {
      "text/plain": [
       "#'user/process-character"
      ]
     },
     "execution_count": 15,
     "metadata": {},
     "output_type": "execute_result"
    }
   ],
   "source": [
    "(defn process-character\n",
    "  [dfa character]\n",
    "  (assoc dfa\n",
    "         :current-state\n",
    "         (next-state (:rulebook dfa)\n",
    "                     (:current-state dfa)\n",
    "                     character)))"
   ]
  },
  {
   "cell_type": "code",
   "execution_count": 16,
   "metadata": {},
   "outputs": [
    {
     "data": {
      "text/plain": [
       "true"
      ]
     },
     "execution_count": 16,
     "metadata": {},
     "output_type": "execute_result"
    }
   ],
   "source": [
    "(is (= 1 (:current-state (process-character (->DFA 0 #{} rb-example1) \\a))))\n",
    "(is (= 2 (:current-state (process-character (->DFA 2 #{} rb-example1) \\b))))"
   ]
  },
  {
   "cell_type": "markdown",
   "metadata": {},
   "source": [
    "The `accepts?` function takes a DFA and an input string. It returns `true` if the DFA accepts the given string or `false` otherwise. "
   ]
  },
  {
   "cell_type": "code",
   "execution_count": 17,
   "metadata": {},
   "outputs": [
    {
     "data": {
      "text/plain": [
       "#'user/accepts?"
      ]
     },
     "execution_count": 17,
     "metadata": {},
     "output_type": "execute_result"
    }
   ],
   "source": [
    "(defn accepts?\n",
    "  [dfa input]\n",
    "  (if (empty? input)\n",
    "    (accepting? dfa)\n",
    "    (recur (process-character dfa (first input))\n",
    "           (rest input))))"
   ]
  },
  {
   "cell_type": "code",
   "execution_count": 18,
   "metadata": {},
   "outputs": [
    {
     "data": {
      "text/plain": [
       "true"
      ]
     },
     "execution_count": 18,
     "metadata": {},
     "output_type": "execute_result"
    }
   ],
   "source": [
    "(let [dfa (->DFA 0 #{2} rb-example1)]\n",
    "  (is (not (accepts? dfa \"a\")))\n",
    "  (is (accepts? dfa \"ab\"))\n",
    "  (is (not (accepts? dfa \"baa\")))\n",
    "  (is (accepts? dfa \"abba\"))\n",
    "  (is (accepts? dfa \"aaab\"))\n",
    "  (is (not (accepts? dfa \"bbba\")))\n",
    "  (is (accepts? dfa \"baaaaab\"))\n",
    "  (is (not (accepts? dfa \"bbbbbaaaaa\"))))"
   ]
  },
  {
   "cell_type": "markdown",
   "metadata": {},
   "source": [
    "## Exercise B\n",
    "\n",
    "_For the following problems: A) build the requested DFAs including the corresponding state diagram, and B) simulate them in code._\n",
    "\n",
    "1. From an alphabet $\\Sigma = \\{ 0, 1 \\}$, design a DFA that accepts strings that start with 0 and end with 1, and rejects all other strings. Write unit tests that verify that $01$, $0101$, $01111$, and $000001$ are accepted, while $\\varepsilon$, $00$, $1001011$, $1001010$ are rejected.\n",
    "\n",
    "2. Design a DFA with alphabet $\\Sigma = \\{ x, y \\}$ that accepts any string that contains a sequence of three consecutive $y$ symbols, and rejects anything else. Write unit tests that verify that $yyy$, $xyxyyyx$, $xxxxxyyyyy$, and $yyyxxxxyyy$ are accepted, while $\\varepsilon$, $yyx$, $yxxyxxy$, $xyxyyxyyx$ are rejected."
   ]
  },
  {
   "attachments": {
    "5efad24b-a271-4ca0-a4ad-858494b90b76.png": {
     "image/png": "[encoded data removed]"
    }
   },
   "cell_type": "markdown",
   "metadata": {},
   "source": [
    "### Solution to Exercise B.1\n",
    "\n",
    "![image.png](attachment:5efad24b-a271-4ca0-a4ad-858494b90b76.png)\n",
    "\n",
    "* $Q = \\{ q_0, q_1, q_2, q_3 \\}$   \n",
    "* $\\Sigma = \\{ 0, 1 \\}$\n",
    "* $q_0 =$ Initial state\n",
    "* $F = \\{ q_2 \\}$\n",
    "* This table shows the transition function $\\delta$:\n",
    "\n",
    "| Current State | Next state for input $0$ | Next state for input $1$ |\n",
    "|:-------------:|:------------------------:|:------------------------:|\n",
    "|     $q_0$     |           $q_1$          |           $q_3$          |\n",
    "|     $q_1$     |           $q_1$          |           $q_2$          |\n",
    "|     $q_2$     |           $q_1$          |           $q_2$          |\n",
    "|     $q_3$     |           $q_3$          |           $q_3$          |"
   ]
  },
  {
   "cell_type": "code",
   "execution_count": null,
   "metadata": {},
   "outputs": [],
   "source": [
    "(let [rulebook [(->Rule 0 \\0 1)\n",
    "                (->Rule 0 \\1 3)\n",
    "                ;...\n",
    "                ]\n",
    "      dfa (->DFA 0 #{2} rulebook)]\n",
    "  (is (accepts? dfa \"01\"))\n",
    "  ; ...\n",
    "  )"
   ]
  },
  {
   "cell_type": "markdown",
   "metadata": {},
   "source": [
    "### Solution to Exercise B.2"
   ]
  }
 ],
 "metadata": {
  "kernelspec": {
   "display_name": "Clojure (clojupyter=0.3.2=1)",
   "language": "clojure",
   "name": "conda-clojupyter"
  },
  "language_info": {
   "file_extension": ".clj",
   "mimetype": "text/x-clojure",
   "name": "clojure",
   "version": "1.10.1"
  }
 },
 "nbformat": 4,
 "nbformat_minor": 4
}
