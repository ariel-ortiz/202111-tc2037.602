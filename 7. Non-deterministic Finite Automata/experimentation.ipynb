{
 "cells": [
  {
   "cell_type": "markdown",
   "metadata": {},
   "source": [
    "## Conjunto potencia\n",
    "\n",
    "$\\mathcal{P}(Q) =$ conjunto potencia de $Q$ es el conjunto de todos los posibles subconjuntos de $Q$.\n",
    "\n",
    "Ejemplo:\n",
    "\n",
    "$Q = \\{a, b, c \\}$\n",
    "\n",
    "$\\mathcal{P}(Q) = \\{ \\emptyset , \\{ a \\}, \\{ b \\}, \\{ c \\}, \\{ a, b \\}, \\{ a, c \\}, \\{ b, c \\}, \\{ a, b, c \\}\\}$\n",
    "\n",
    "$|\\mathcal{P}(Q)| = 2^{|Q|}$ "
   ]
  }
 ],
 "metadata": {
  "kernelspec": {
   "display_name": "Clojure (clojupyter=0.3.2=1)",
   "language": "clojure",
   "name": "conda-clojupyter"
  },
  "language_info": {
   "file_extension": ".clj",
   "mimetype": "text/x-clojure",
   "name": "clojure",
   "version": "1.10.1"
  }
 },
 "nbformat": 4,
 "nbformat_minor": 4
}
