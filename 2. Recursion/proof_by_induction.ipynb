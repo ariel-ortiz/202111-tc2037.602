{
 "cells": [
  {
   "cell_type": "markdown",
   "metadata": {},
   "source": [
    "## Problem 1\n",
    "\n",
    "Prove by induction that:\n",
    "\n",
    "$$\n",
    "P(n): 1 + 2 + 3 + 4 + \\cdots + n = \\frac{n (n + 1)}{2}\n",
    "$$\n",
    "\n",
    "for  $n \\ge 1$. "
   ]
  },
  {
   "cell_type": "markdown",
   "metadata": {},
   "source": [
    "### Solution:\n",
    "\n",
    "**BASE CASE:** Prove that $P(1)$ is true.\n",
    "\n",
    "$$\n",
    "\\begin{align*}\n",
    "1 &= \\frac{1(1+1)}{2} \\\\ \n",
    " &= \\frac{1(2)}{2} \\\\ \n",
    " &= \\frac{2}{2}\\\\ \n",
    " &= 1\n",
    "\\end{align*}\n",
    "$$\n",
    "\n",
    "**INDUCTIVE STEP:** Assume that $P(k)$ is true. This is the inductive hypothesis.\n",
    "\n",
    "$$\n",
    "1 + 2 + 3 + 4 + \\cdots + k = \\frac{k (k + 1)}{2}\n",
    "$$\n",
    "\n",
    "Prove that $P(k + 1)$ is true.\n",
    "\n",
    "$$\n",
    "\\begin{align*}\n",
    "(1 + 2 + 3 + 4 + \\cdots + k) + (k + 1) &= \\frac{(k + 1)((k + 1) + 1)}{2} \\\\ \n",
    "\\frac{k (k + 1)}{2} + \\frac{(k + 1)}{1} &= \\frac{(k + 1)(k + 2)}{2} \\\\ \n",
    "\\frac{k(k + 1) + 2 (k + 1)}{2} &= \\frac{k^{2} + 2k + k + 2}{2} \\\\ \n",
    "\\frac{k^{2} + k + 2k + 2}{2} &= \\frac{k^{2} + 3k + 2}{2}\\\\ \n",
    "\\frac{k^{2} + 3k + 2}{2} &= \n",
    "\\end{align*}\n",
    "$$\n",
    "\n",
    "$\\square$"
   ]
  }
 ],
 "metadata": {
  "kernelspec": {
   "display_name": "Clojure (clojupyter=0.3.2=1)",
   "language": "clojure",
   "name": "conda-clojupyter"
  },
  "language_info": {
   "file_extension": ".clj",
   "mimetype": "text/x-clojure",
   "name": "clojure",
   "version": "1.10.1"
  }
 },
 "nbformat": 4,
 "nbformat_minor": 4
}
