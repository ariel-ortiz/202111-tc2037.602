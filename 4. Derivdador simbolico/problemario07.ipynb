{
 "cells": [
  {
   "cell_type": "markdown",
   "metadata": {},
   "source": [
    "# Problem Set #7\n",
    "\n",
    "## Tc2037 Implementation of Computational Methods\n",
    "\n",
    "March 11, 2021.\n",
    "\n",
    "_Authors of this notebook’s solution:_\n",
    "\n",
    "- _Student ID and Name:_\n",
    "- _Student ID and Name:_\n",
    "\n",
    "**Instructions:** Write the requested Clojure code. Make sure each function passes all the unit tests."
   ]
  },
  {
   "cell_type": "code",
   "execution_count": 1,
   "metadata": {},
   "outputs": [
    {
     "data": {
      "text/plain": [
       "nil"
      ]
     },
     "execution_count": 1,
     "metadata": {},
     "output_type": "execute_result"
    }
   ],
   "source": [
    ";; External function required for this notebook.\n",
    "(require '[clojure.test :refer [is]])"
   ]
  },
  {
   "cell_type": "markdown",
   "metadata": {},
   "source": [
    "# Symbolic Differentiation\n",
    "---\n",
    "\n",
    "## Introduction\n",
    "\n",
    "As an illustration of symbol manipulation and data abstraction, consider the design of a function that performs symbolic differentiation of algebraic expressions. We would like the function to take as arguments an algebraic expression and a variable and to return the derivative of the expression with respect to the variable. For example, if the arguments to the function are $ax^2+bx+c$ and $x$, the function should return $2ax+b$. Symbolic differentiation is of special historical significance in Lisp. It was one of the motivating examples behind the development of a computer language for symbol manipulation.\n",
    "\n",
    "In developing the symbolic-differentiation program, we will follow a **data abstraction** strategy. That is, we will first define a differentiation algorithm that operates on abstract objects such as “sums”, “products”, and “variables” without worrying about how these are represented. Only afterward will we address the representation problem."
   ]
  },
  {
   "cell_type": "markdown",
   "metadata": {},
   "source": [
    "## Basic Program\n",
    "\n",
    "We want a Clojure function `(deriv exp variable)` that allows doing symbolic differentiation using the following reduction rules:\n",
    "\n",
    "### Derivative With Respect To Itself\n",
    "\n",
    "$$\n",
    "\\frac{d(x)}{dx} = 1\n",
    "$$\n",
    "\n",
    "### Constant Rule\n",
    "\n",
    "$$\n",
    "\\frac{d(c)}{dx} = 0 \n",
    "$$\n",
    "\n",
    "Where $c$ is a constant or a variable different from $x$.\n",
    "\n",
    "### Sum Rule\n",
    "\n",
    "$$\n",
    "\\frac{d(u+v)}{dx} = \\frac{d(u)}{dx} + \\frac{d(v)}{dx}\\\n",
    "$$\n",
    "\n",
    "### Product Rule\n",
    "$$\n",
    "\\frac{d(u \\cdot v)}{dx} = u \\cdot \\left ( \\frac{d(v)}{dx} \\right ) + v \\cdot \\left ( \\frac{d(u)}{dx} \\right )\n",
    "$$"
   ]
  },
  {
   "cell_type": "markdown",
   "metadata": {},
   "source": [
    "We’ll use (and later define) the following helper functions:\n",
    "\n",
    "* `(variable? exp)` : Is `exp` a variable?\n",
    "* `(same-variable? v1 v2)` : Are `v1` and `v2` the same variable?\n",
    "* `(sum? exp)` : Is `exp` a sum?\n",
    "* `(augend exp)` : Augend of the sum `exp`.\n",
    "* `(addend exp)` : Addend of the sum `exp`.\n",
    "* `(make-sum exp1 exp2)` : Construct the sum of `exp1` and `exp2`.\n",
    "* `(product? exp)` : Is `exp` a product?\n",
    "* `(multiplicand exp)` : Multiplicand of the product `exp`.\n",
    "* `(multiplier exp)` : Multiplier of the product `exp`.\n",
    "* `(make-product exp1 exp2)` : Construct the product of `exp1` and `exp2`."
   ]
  },
  {
   "cell_type": "code",
   "execution_count": 2,
   "metadata": {},
   "outputs": [
    {
     "data": {
      "text/plain": [
       "#'user/make-product"
      ]
     },
     "execution_count": 2,
     "metadata": {},
     "output_type": "execute_result"
    }
   ],
   "source": [
    "(declare variable? same-variable? sum? augend addend make-sum \n",
    "         product? multiplicand multiplier make-product)"
   ]
  },
  {
   "cell_type": "markdown",
   "metadata": {},
   "source": [
    "### `deriv` Function"
   ]
  },
  {
   "cell_type": "code",
   "execution_count": 3,
   "metadata": {},
   "outputs": [
    {
     "data": {
      "text/plain": [
       "#'user/deriv"
      ]
     },
     "execution_count": 3,
     "metadata": {},
     "output_type": "execute_result"
    }
   ],
   "source": [
    "(defn deriv\n",
    "  [exp variable]\n",
    "  (cond\n",
    "    (number? exp)\n",
    "    0\n",
    "    \n",
    "    (variable? exp)\n",
    "    (if (same-variable? exp variable) 1 0)\n",
    "    \n",
    "    (sum? exp)\n",
    "    (let [u (augend exp)\n",
    "          v (addend exp)]\n",
    "      (make-sum (deriv u variable)\n",
    "                (deriv v variable)))\n",
    "    \n",
    "    (product? exp)\n",
    "    (let [u (multiplicand exp)\n",
    "          v (multiplier exp)]\n",
    "      (make-sum (make-product u (deriv v variable))\n",
    "                (make-product v (deriv u variable))))))"
   ]
  },
  {
   "cell_type": "markdown",
   "metadata": {},
   "source": [
    "### `variable?` Function\n",
    "\n",
    "`(variable? exp)` : Is `exp` a variable?"
   ]
  },
  {
   "cell_type": "code",
   "execution_count": 4,
   "metadata": {},
   "outputs": [
    {
     "data": {
      "text/plain": [
       "#'user/variable?"
      ]
     },
     "execution_count": 4,
     "metadata": {},
     "output_type": "execute_result"
    }
   ],
   "source": [
    "(defn variable?\n",
    "  [exp]\n",
    "  (symbol? exp))"
   ]
  },
  {
   "cell_type": "code",
   "execution_count": 5,
   "metadata": {},
   "outputs": [
    {
     "data": {
      "text/plain": [
       "true"
      ]
     },
     "execution_count": 5,
     "metadata": {},
     "output_type": "execute_result"
    }
   ],
   "source": [
    ";;; Unit tests:\n",
    "(is (variable? 'x))\n",
    "(is (not (variable? 42)))"
   ]
  },
  {
   "cell_type": "markdown",
   "metadata": {},
   "source": [
    "### `same-variable?` Function\n",
    "\n",
    "`(same-variable? v1 v2)` : Are `v1` and `v2` the same variable?"
   ]
  },
  {
   "cell_type": "code",
   "execution_count": 6,
   "metadata": {},
   "outputs": [
    {
     "data": {
      "text/plain": [
       "#'user/same-variable?"
      ]
     },
     "execution_count": 6,
     "metadata": {},
     "output_type": "execute_result"
    }
   ],
   "source": [
    "(defn same-variable? \n",
    "  [v1 v2]\n",
    "  (and (variable? v1)\n",
    "       (variable? v2)\n",
    "       (= v1 v2)))"
   ]
  },
  {
   "cell_type": "code",
   "execution_count": 7,
   "metadata": {},
   "outputs": [
    {
     "data": {
      "text/plain": [
       "true"
      ]
     },
     "execution_count": 7,
     "metadata": {},
     "output_type": "execute_result"
    }
   ],
   "source": [
    ";;; Unit tests:\n",
    "(is (same-variable? 'x 'x))\n",
    "(is (not (same-variable? 'x 'y)))\n",
    "(is (not (same-variable? 42 42)))\n",
    "(is (not (same-variable? 'x 42)))"
   ]
  },
  {
   "cell_type": "markdown",
   "metadata": {},
   "source": [
    "### `sum?` Function\n",
    "\n",
    "`(sum? exp)` : Is `exp` a sum?"
   ]
  },
  {
   "cell_type": "code",
   "execution_count": 8,
   "metadata": {},
   "outputs": [
    {
     "data": {
      "text/plain": [
       "#'user/sum?"
      ]
     },
     "execution_count": 8,
     "metadata": {},
     "output_type": "execute_result"
    }
   ],
   "source": [
    "(defn sum? \n",
    "  [exp]\n",
    "  (and (list? exp)\n",
    "       (= 3 (count exp))\n",
    "       (= '+ (first exp))))"
   ]
  },
  {
   "cell_type": "code",
   "execution_count": 9,
   "metadata": {},
   "outputs": [
    {
     "data": {
      "text/plain": [
       "true"
      ]
     },
     "execution_count": 9,
     "metadata": {},
     "output_type": "execute_result"
    }
   ],
   "source": [
    ";;; Unit tests:\n",
    "(is (sum? '(+ x 2)))\n",
    "(is (not (sum? 'x)))\n",
    "(is (not (sum? '(+ x y z))))\n",
    "(is (not (sum? '(* x y))))"
   ]
  },
  {
   "cell_type": "markdown",
   "metadata": {},
   "source": [
    "### `augend` Function\n",
    "\n",
    "`(augend exp)` : Augend of the sum `exp`."
   ]
  },
  {
   "cell_type": "code",
   "execution_count": 10,
   "metadata": {},
   "outputs": [
    {
     "data": {
      "text/plain": [
       "#'user/augend"
      ]
     },
     "execution_count": 10,
     "metadata": {},
     "output_type": "execute_result"
    }
   ],
   "source": [
    "(defn augend \n",
    "  [exp]\n",
    "  (nth exp 1))"
   ]
  },
  {
   "cell_type": "code",
   "execution_count": 11,
   "metadata": {},
   "outputs": [
    {
     "data": {
      "text/plain": [
       "true"
      ]
     },
     "execution_count": 11,
     "metadata": {},
     "output_type": "execute_result"
    }
   ],
   "source": [
    ";;; Unit test:\n",
    "(is (= 'x (augend '(+ x 1))))"
   ]
  },
  {
   "cell_type": "markdown",
   "metadata": {},
   "source": [
    "### `addend` Function\n",
    "\n",
    "`(addend exp)` : Addend of the sum `exp`."
   ]
  },
  {
   "cell_type": "code",
   "execution_count": 12,
   "metadata": {},
   "outputs": [
    {
     "data": {
      "text/plain": [
       "#'user/addend"
      ]
     },
     "execution_count": 12,
     "metadata": {},
     "output_type": "execute_result"
    }
   ],
   "source": [
    "(defn addend \n",
    "  [exp]\n",
    "  (nth exp 2))"
   ]
  },
  {
   "cell_type": "code",
   "execution_count": 13,
   "metadata": {},
   "outputs": [
    {
     "data": {
      "text/plain": [
       "true"
      ]
     },
     "execution_count": 13,
     "metadata": {},
     "output_type": "execute_result"
    }
   ],
   "source": [
    ";;; Unit test:\n",
    "(is (= 1 (addend '(+ x 1))))"
   ]
  },
  {
   "cell_type": "markdown",
   "metadata": {},
   "source": [
    "### `make-sum` Function\n",
    "\n",
    "`(make-sum exp1 exp2)` : Construct the sum of `exp1` and `exp2`."
   ]
  },
  {
   "cell_type": "code",
   "execution_count": 14,
   "metadata": {},
   "outputs": [
    {
     "data": {
      "text/plain": [
       "#'user/make-sum"
      ]
     },
     "execution_count": 14,
     "metadata": {},
     "output_type": "execute_result"
    }
   ],
   "source": [
    "(defn make-sum \n",
    "  [exp1 exp2]\n",
    "  (list '+ exp1 exp2))"
   ]
  },
  {
   "cell_type": "code",
   "execution_count": 15,
   "metadata": {},
   "outputs": [
    {
     "data": {
      "text/plain": [
       "true"
      ]
     },
     "execution_count": 15,
     "metadata": {},
     "output_type": "execute_result"
    }
   ],
   "source": [
    ";;; Unit tests:\n",
    "(is (= '(+ x 1) (make-sum 'x 1)))\n",
    "(is (= '(+ 2 2) (make-sum  2 2)))"
   ]
  },
  {
   "cell_type": "markdown",
   "metadata": {},
   "source": [
    "### `product?` Function\n",
    "\n",
    "`(product? exp)` : Is `exp` a product?"
   ]
  },
  {
   "cell_type": "code",
   "execution_count": 16,
   "metadata": {},
   "outputs": [
    {
     "data": {
      "text/plain": [
       "#'user/product?"
      ]
     },
     "execution_count": 16,
     "metadata": {},
     "output_type": "execute_result"
    }
   ],
   "source": [
    "(defn product? \n",
    "  [exp]\n",
    "  (and (list? exp)\n",
    "       (= 3 (count exp))\n",
    "       (= '* (first exp))))"
   ]
  },
  {
   "cell_type": "code",
   "execution_count": 17,
   "metadata": {},
   "outputs": [
    {
     "data": {
      "text/plain": [
       "true"
      ]
     },
     "execution_count": 17,
     "metadata": {},
     "output_type": "execute_result"
    }
   ],
   "source": [
    ";;; Unit tests:\n",
    "(is (product? '(* x 2)))\n",
    "(is (not (product? 'x)))\n",
    "(is (not (product? '(* x y z))))\n",
    "(is (not (product? '(+ x y))))"
   ]
  },
  {
   "cell_type": "markdown",
   "metadata": {},
   "source": [
    "### `multiplicand` Function\n",
    "\n",
    "`(multiplicand exp)` : Multiplicand of the product `exp`."
   ]
  },
  {
   "cell_type": "code",
   "execution_count": 18,
   "metadata": {},
   "outputs": [
    {
     "data": {
      "text/plain": [
       "#'user/multiplicand"
      ]
     },
     "execution_count": 18,
     "metadata": {},
     "output_type": "execute_result"
    }
   ],
   "source": [
    "(defn multiplicand \n",
    "  [exp]\n",
    "  (nth exp 1))"
   ]
  },
  {
   "cell_type": "code",
   "execution_count": 19,
   "metadata": {},
   "outputs": [
    {
     "data": {
      "text/plain": [
       "true"
      ]
     },
     "execution_count": 19,
     "metadata": {},
     "output_type": "execute_result"
    }
   ],
   "source": [
    ";;; Unit test:\n",
    "(is (= 'x (multiplicand '(* x 2))))"
   ]
  },
  {
   "cell_type": "markdown",
   "metadata": {},
   "source": [
    "### `multiplier` Function\n",
    "\n",
    "`(multiplier exp)` : Multiplier of the product `exp`."
   ]
  },
  {
   "cell_type": "code",
   "execution_count": 20,
   "metadata": {},
   "outputs": [
    {
     "data": {
      "text/plain": [
       "#'user/multiplier"
      ]
     },
     "execution_count": 20,
     "metadata": {},
     "output_type": "execute_result"
    }
   ],
   "source": [
    "(defn multiplier\n",
    "  [exp]\n",
    "  (nth exp 2))"
   ]
  },
  {
   "cell_type": "code",
   "execution_count": 21,
   "metadata": {},
   "outputs": [
    {
     "data": {
      "text/plain": [
       "true"
      ]
     },
     "execution_count": 21,
     "metadata": {},
     "output_type": "execute_result"
    }
   ],
   "source": [
    ";;; Unit test:\n",
    "(is (= 2 (multiplier '(* x 2))))"
   ]
  },
  {
   "cell_type": "markdown",
   "metadata": {},
   "source": [
    "### `make-product` Function\n",
    "\n",
    "`(make-product exp1 exp2)` : Construct the product of `exp1` and `exp2`."
   ]
  },
  {
   "cell_type": "code",
   "execution_count": 22,
   "metadata": {},
   "outputs": [
    {
     "data": {
      "text/plain": [
       "#'user/make-product"
      ]
     },
     "execution_count": 22,
     "metadata": {},
     "output_type": "execute_result"
    }
   ],
   "source": [
    "(defn make-product\n",
    "  [exp1 exp2]\n",
    "  (list '* exp1 exp2))"
   ]
  },
  {
   "cell_type": "code",
   "execution_count": 23,
   "metadata": {},
   "outputs": [
    {
     "data": {
      "text/plain": [
       "true"
      ]
     },
     "execution_count": 23,
     "metadata": {},
     "output_type": "execute_result"
    }
   ],
   "source": [
    ";;; Unit tests:\n",
    "(is (= '(* x 2) (make-product 'x 2)))\n",
    "(is (= '(* 3 2) (make-product 3 2)))"
   ]
  },
  {
   "cell_type": "markdown",
   "metadata": {},
   "source": [
    "### Testing It All\n",
    "\n",
    "The following tests check that:\n",
    "\n",
    "$$\n",
    "\\begin{align*}\n",
    "\\frac{d(x + 3)}{dx} \n",
    "&= \\frac{d(x)}{dx} + \\frac{d(3)}{dx} \\\\\n",
    "&= 1 + 0\n",
    "\\end{align*}\n",
    "$$\n",
    "\n",
    "$$\n",
    "\\begin{align*}\n",
    "\\frac{d(x \\cdot y)}{dx} \n",
    "&= x \\cdot \\left ( \\frac{d(y)}{dx} \\right ) + y \\cdot \\left ( \\frac{d(x)}{dx} \\right ) \\\\\n",
    "&= (x \\cdot 0) + (y \\cdot 1)\n",
    "\\end{align*}\n",
    "$$\n",
    "\n",
    "$$\n",
    "\\begin{align*}\n",
    "\\frac{d([x \\cdot y] \\cdot [x + 3])}{dx}\n",
    "&= [x \\cdot y] \\cdot \\left ( \\frac{d(x + 3)}{dx} \\right ) + [x + 3] \\cdot \\left ( \\frac{d(x \\cdot y)}{dx} \\right ) \\\\\n",
    "&= ([x \\cdot y] \\cdot [1 + 0]) + \\{ [x + 3] \\cdot ([x \\cdot 0] + [y \\cdot 1]) \\}\n",
    "\\end{align*}\n",
    "$$"
   ]
  },
  {
   "cell_type": "code",
   "execution_count": 24,
   "metadata": {},
   "outputs": [
    {
     "data": {
      "text/plain": [
       "true"
      ]
     },
     "execution_count": 24,
     "metadata": {},
     "output_type": "execute_result"
    }
   ],
   "source": [
    ";;; Unit tests:\n",
    "(is (= '(+ 1 0) \n",
    "       (deriv '(+ x 3) 'x)))\n",
    "(is (= '(+ (* x 0) (* y 1)) \n",
    "       (deriv '(* x y) 'x)))\n",
    "(is (= '(+ (* (* x y) (+ 1 0)) (* (+ x 3) (+ (* x 0) (* y 1))))\n",
    "       (deriv '(* (* x y) (+ x 3)) 'x)))"
   ]
  },
  {
   "cell_type": "markdown",
   "metadata": {},
   "source": [
    "## Modification #1\n",
    "\n",
    "Modify the `make-sum` function in order to reduce its answers to its simplest form:\n",
    "\n",
    "* $x + 0 = x$\n",
    "* $0 + x = x$\n",
    "\n",
    "In the same manner, modify the `make-product` function in order to reduce its answers to its simplest form:\n",
    "\n",
    "* $x \\cdot 0 = 0$\n",
    "* $0 \\cdot x = 0$\n",
    "* $x \\cdot 1 = x$\n",
    "* $1 \\cdot x = x$"
   ]
  },
  {
   "cell_type": "markdown",
   "metadata": {},
   "source": [
    "### Modified `make-sum` Function\n",
    "\n",
    "`(make-sum exp1 exp2)` : Construct the sum of `exp1` and `exp2`, and simplify the result."
   ]
  },
  {
   "cell_type": "code",
   "execution_count": 25,
   "metadata": {},
   "outputs": [
    {
     "data": {
      "text/plain": [
       "#'user/make-sum"
      ]
     },
     "execution_count": 25,
     "metadata": {},
     "output_type": "execute_result"
    }
   ],
   "source": [
    "(defn make-sum \n",
    "  [exp1 exp2]\n",
    "  (cond\n",
    "    (= exp2 0) exp1\n",
    "    (= exp1 0) exp2\n",
    "    (and (number? exp1) (number? exp2)) (+ exp1 exp2)\n",
    "    :else (list '+ exp1 exp2)))"
   ]
  },
  {
   "cell_type": "code",
   "execution_count": 26,
   "metadata": {},
   "outputs": [
    {
     "data": {
      "text/plain": [
       "true"
      ]
     },
     "execution_count": 26,
     "metadata": {},
     "output_type": "execute_result"
    }
   ],
   "source": [
    ";;; Unit tests:\n",
    "(is (= 'x (make-sum 'x 0)))\n",
    "(is (= 'x (make-sum 0 'x)))\n",
    "(is (= 13 (make-sum 6 7)))\n",
    "(is (= '(+ x 5) (make-sum 'x 5)))"
   ]
  },
  {
   "cell_type": "markdown",
   "metadata": {},
   "source": [
    "### Modified `make-product` Function\n",
    "\n",
    "`(make-product exp1 exp2)` : Construct the product of `exp1` and `exp2`, and simplify the result."
   ]
  },
  {
   "cell_type": "code",
   "execution_count": 27,
   "metadata": {},
   "outputs": [
    {
     "data": {
      "text/plain": [
       "#'user/make-product"
      ]
     },
     "execution_count": 27,
     "metadata": {},
     "output_type": "execute_result"
    }
   ],
   "source": [
    "(defn make-product\n",
    "  [exp1 exp2]\n",
    "  (cond\n",
    "    (or (= exp1 0) (= exp2 0)) 0\n",
    "    (= exp1 1) exp2\n",
    "    (= exp2 1) exp1\n",
    "    (and (number? exp1) (number? exp2)) (* exp1 exp2)\n",
    "    :else (list '* exp1 exp2)))"
   ]
  },
  {
   "cell_type": "code",
   "execution_count": 28,
   "metadata": {},
   "outputs": [
    {
     "data": {
      "text/plain": [
       "true"
      ]
     },
     "execution_count": 28,
     "metadata": {},
     "output_type": "execute_result"
    }
   ],
   "source": [
    ";;; Unit tests:\n",
    "(is (= 0 (make-product 'x 0)))\n",
    "(is (= 0 (make-product 0 'x)))\n",
    "(is (= 'x (make-product 'x 1)))\n",
    "(is (= 'x (make-product 1 'x)))\n",
    "(is (= 30 (make-product 5 6)))\n",
    "(is (= '(* x 2) (make-product 'x 2)))"
   ]
  },
  {
   "cell_type": "markdown",
   "metadata": {},
   "source": [
    "### Testing It All\n",
    "\n",
    "Here’s how this new version should work on the three previous examples:\n",
    "\n",
    "$$\n",
    "\\begin{align*}\n",
    "\\frac{d(x + 3)}{dx} \n",
    "&= \\frac{d(x)}{dx} + \\frac{d(3)}{dx} \\\\\n",
    "&= 1 + 0 \\\\\n",
    "&= 1\n",
    "\\end{align*}\n",
    "$$\n",
    "\n",
    "$$\n",
    "\\begin{align*}\n",
    "\\frac{d(x \\cdot y)}{dx} \n",
    "&= x \\cdot \\left ( \\frac{d(y)}{dx} \\right ) + y \\cdot \\left ( \\frac{d(x)}{dx} \\right ) \\\\\n",
    "&= (x \\cdot 0) + (y \\cdot 1) \\\\\n",
    "&= y\n",
    "\\end{align*}\n",
    "$$\n",
    "\n",
    "$$\n",
    "\\begin{align*}\n",
    "\\frac{d([x \\cdot y] \\cdot [x + 3])}{dx}\n",
    "&= [x \\cdot y] \\cdot \\left ( \\frac{d(x + 3)}{dx} \\right ) + [x + 3] \\cdot \\left ( \\frac{d(x \\cdot y)}{dx} \\right ) \\\\\n",
    "&= ([x \\cdot y] \\cdot [1 + 0]) + \\{ [x + 3] \\cdot ([x \\cdot 0] + [y \\cdot 1]) \\} \\\\\n",
    "&= [x \\cdot y] \\cdot([x + 3] \\cdot y)\n",
    "\\end{align*}\n",
    "$$"
   ]
  },
  {
   "cell_type": "code",
   "execution_count": 29,
   "metadata": {},
   "outputs": [
    {
     "data": {
      "text/plain": [
       "true"
      ]
     },
     "execution_count": 29,
     "metadata": {},
     "output_type": "execute_result"
    }
   ],
   "source": [
    ";;; Unit tests:\n",
    "(is (= 1 (deriv '(+ x 3) 'x)))\n",
    "(is (= 'y (deriv '(* x y) 'x)))\n",
    "(is (= '(+ (* x y) (* (+ x 3) y)) \n",
    "       (deriv '(* (* x y) (+ x 3)) 'x)))"
   ]
  },
  {
   "cell_type": "markdown",
   "metadata": {},
   "source": [
    "## Modification #2\n",
    "Extend the basic program in order to implement the following differentiation rule:\n",
    "\n",
    "### Power Rule\n",
    "\n",
    "$$\n",
    "\\frac{d(u^v)}{dx} = (v \\cdot u^{v-1}) \\cdot \\left ( \\frac{du}{dx} \\right )\n",
    "$$\n",
    "\n",
    "Add a new clause to the `deriv` function and define appropriate functions `exponentiation?`, `base`, `exponent`, and `make-exponentiation`. Use the symbol `**` to denote exponentiation."
   ]
  },
  {
   "cell_type": "code",
   "execution_count": 30,
   "metadata": {},
   "outputs": [
    {
     "data": {
      "text/plain": [
       "#'user/make-exponentiation"
      ]
     },
     "execution_count": 30,
     "metadata": {},
     "output_type": "execute_result"
    }
   ],
   "source": [
    "(declare exponentiation? base exponent make-exponentiation)"
   ]
  },
  {
   "cell_type": "markdown",
   "metadata": {},
   "source": [
    "### Modified `deriv` Function"
   ]
  },
  {
   "cell_type": "code",
   "execution_count": 31,
   "metadata": {},
   "outputs": [
    {
     "data": {
      "text/plain": [
       "#'user/deriv"
      ]
     },
     "execution_count": 31,
     "metadata": {},
     "output_type": "execute_result"
    }
   ],
   "source": [
    "(defn deriv\n",
    "  [exp variable]\n",
    "  (cond\n",
    "    (number? exp)\n",
    "    0\n",
    "    \n",
    "    (variable? exp)\n",
    "    (if (same-variable? exp variable) 1 0)\n",
    "    \n",
    "    (sum? exp)\n",
    "    (let [u (augend exp)\n",
    "          v (addend exp)]\n",
    "      (make-sum (deriv u variable)\n",
    "                (deriv v variable)))\n",
    "    \n",
    "    (product? exp)\n",
    "    (let [u (multiplicand exp)\n",
    "          v (multiplier exp)]\n",
    "      (make-sum (make-product u (deriv v variable))\n",
    "                (make-product v (deriv u variable))))\n",
    "    \n",
    "    ;;; New code goes here\n",
    "    ))"
   ]
  },
  {
   "cell_type": "markdown",
   "metadata": {},
   "source": [
    "### `exponentiation?` Function\n",
    "\n",
    "`(exponentiation? exp)` : Is `exp` an exponentiation?"
   ]
  },
  {
   "cell_type": "code",
   "execution_count": 32,
   "metadata": {},
   "outputs": [
    {
     "data": {
      "text/plain": [
       "#'user/exponentiation?"
      ]
     },
     "execution_count": 32,
     "metadata": {},
     "output_type": "execute_result"
    }
   ],
   "source": [
    "(defn exponentiation? \n",
    "  [exp]\n",
    "  ;;; your code goes here\n",
    "  nil)"
   ]
  },
  {
   "cell_type": "code",
   "execution_count": null,
   "metadata": {},
   "outputs": [],
   "source": [
    ";;; Unit tests:\n",
    "(is (exponentiation? '(** x 2)))\n",
    "(is (not (exponentiation? 'x)))\n",
    "(is (not (exponentiation? '(** x y z))))\n",
    "(is (not (exponentiation? '(+ x y))))"
   ]
  },
  {
   "cell_type": "markdown",
   "metadata": {},
   "source": [
    "### `base` Function\n",
    "\n",
    "`(base exp)` : Base of the power `exp`."
   ]
  },
  {
   "cell_type": "code",
   "execution_count": 34,
   "metadata": {},
   "outputs": [
    {
     "data": {
      "text/plain": [
       "#'user/base"
      ]
     },
     "execution_count": 34,
     "metadata": {},
     "output_type": "execute_result"
    }
   ],
   "source": [
    "(defn base \n",
    "  [exp]\n",
    "  ;;; your code goes here\n",
    "  nil)"
   ]
  },
  {
   "cell_type": "code",
   "execution_count": null,
   "metadata": {},
   "outputs": [],
   "source": [
    ";;; Unit test:\n",
    "(is (= 'x (base '(** x 2))))"
   ]
  },
  {
   "cell_type": "markdown",
   "metadata": {},
   "source": [
    "### `exponent` Function\n",
    "\n",
    "`(exponent exp)` : Exponent of the power `exp`."
   ]
  },
  {
   "cell_type": "code",
   "execution_count": 36,
   "metadata": {},
   "outputs": [
    {
     "data": {
      "text/plain": [
       "#'user/exponent"
      ]
     },
     "execution_count": 36,
     "metadata": {},
     "output_type": "execute_result"
    }
   ],
   "source": [
    "(defn exponent \n",
    "  [exp]\n",
    "  ;;; your code goes here\n",
    "  nil)"
   ]
  },
  {
   "cell_type": "code",
   "execution_count": null,
   "metadata": {},
   "outputs": [],
   "source": [
    ";;; Unit test:\n",
    "(is (= 2 (exponent '(** x 2))))"
   ]
  },
  {
   "cell_type": "markdown",
   "metadata": {},
   "source": [
    "### `make-exponent` Function\n",
    "\n",
    "`(make-exponent exp1 exp2)` : Construct the power of `exp1` and `exp2`. Use the symbol `**` to denote exponentiation. If possible, simplify the result as follows:\n",
    "\n",
    "* $x^0 = 1$\n",
    "* $x^1 = x$\n",
    "* $0^x = 0$\n",
    "* $1^x = 1$\n",
    "* If both the base and the exponent are numbers, the corresponding operation should be carried out."
   ]
  },
  {
   "cell_type": "code",
   "execution_count": 38,
   "metadata": {},
   "outputs": [
    {
     "data": {
      "text/plain": [
       "nil"
      ]
     },
     "execution_count": 38,
     "metadata": {},
     "output_type": "execute_result"
    }
   ],
   "source": [
    ";; Import the expt function from clojure.math.numeric-tower\n",
    "(require '[cemerick.pomegranate :refer [add-dependencies]])\n",
    "(add-dependencies :coordinates '[[org.clojure/math.numeric-tower \"0.0.4\"]])\n",
    "(require '[clojure.math.numeric-tower :refer [expt]])"
   ]
  },
  {
   "cell_type": "code",
   "execution_count": 39,
   "metadata": {},
   "outputs": [
    {
     "data": {
      "text/plain": [
       "#'user/make-exponentiation"
      ]
     },
     "execution_count": 39,
     "metadata": {},
     "output_type": "execute_result"
    }
   ],
   "source": [
    "(defn make-exponentiation\n",
    "  [exp1 exp2]\n",
    "  ;;; your code goes here\n",
    "  nil)"
   ]
  },
  {
   "cell_type": "code",
   "execution_count": null,
   "metadata": {},
   "outputs": [],
   "source": [
    ";;; Unit tests:\n",
    "(is (= '(** x 2) (make-exponentiation 'x 2)))\n",
    "(is (= 1 (make-exponentiation 'x 0)))\n",
    "(is (= 'x (make-exponentiation 'x 1)))\n",
    "(is (= 0 (make-exponentiation 0 'x)))\n",
    "(is (= 1 (make-exponentiation 1 'x)))\n",
    "(is (= 8 (make-exponentiation 2 3)))"
   ]
  },
  {
   "cell_type": "markdown",
   "metadata": {},
   "source": [
    "### Testing It All\n",
    "\n",
    "The following tests check that:\n",
    "\n",
    "$$\n",
    "\\begin{align*}\n",
    "\\frac{d(x^2)}{dx} \n",
    "&= (2 \\cdot x^{2 - 1}) \\cdot \\left ( \\frac{d(x)}{dx} \\right ) \\\\\n",
    "&= (2 \\cdot x^1) \\cdot 1 \\\\\n",
    "&= 2 \\cdot x\n",
    "\\end{align*}\n",
    "$$\n",
    "\n",
    "$$\n",
    "\\begin{align*}\n",
    "\\frac{d(2^x)}{dx} \n",
    "&= (x \\cdot 2^{x - 1}) \\cdot \\left ( \\frac{d(2)}{dx} \\right ) \\\\\n",
    "&= (x \\cdot 2^{x - 1}) \\cdot 0 \\\\\n",
    "&= 0\n",
    "\\end{align*}\n",
    "$$\n",
    "\n",
    "$$\n",
    "\\begin{align*}\n",
    "\\frac{d([x + 3]^y)}{dx} \n",
    "&= (y \\cdot [x + 3]^{y - 1}) \\cdot  \\left ( \\frac{d(x + 3)}{dx} \\right ) \\\\\n",
    "&= (y \\cdot [x + 3]^{y - 1}) \\cdot  \\left ( \\frac{d(x)}{dx} + \\frac{d(3)}{dx} \\right ) \\\\\n",
    "&= (y \\cdot [x + 3]^{y - 1}) \\cdot (1 + 0) \\\\\n",
    "&= y \\cdot (x + 3)^{y - 1}\n",
    "\\end{align*} \n",
    "$$\n",
    "\n",
    "$$\n",
    "\\begin{align*}\n",
    "\\frac{d([x \\cdot y]^x)}{dx} \n",
    "&= (x \\cdot [x \\cdot y]^{x - 1}) \\cdot \\left ( \\frac{d(x \\cdot y)}{dx} \\right ) \\\\\n",
    "&= (x \\cdot [x \\cdot y]^{x - 1}) \\cdot \\left [ x \\cdot \\left ( \\frac{d(y)}{dx} \\right ) + y \\cdot \\left ( \\frac{d(x)}{dx} \\right ) \\right ]\\\\\n",
    "&= (x \\cdot [x \\cdot y]^{x - 1}) \\cdot [ (x \\cdot 0) + (y \\cdot 1) ] \\\\\n",
    "&= (x \\cdot [x \\cdot y]^{x - 1}) \\cdot y\n",
    "\\end{align*} \n",
    "$$"
   ]
  },
  {
   "cell_type": "code",
   "execution_count": null,
   "metadata": {},
   "outputs": [],
   "source": [
    ";;; Unit tests:\n",
    "(is (= '(* 2 x) \n",
    "       (deriv '(** x 2) 'x)))\n",
    "(is (= 0\n",
    "       (deriv '(** 2 x) 'x)))\n",
    "(is (= '(* y (** (+ x 3) (+ y -1)))\n",
    "       (deriv '(** (+ x 3) y) 'x)))\n",
    "(is (= '(* (* x (** (* x y) (+ x -1))) y)\n",
    "       (deriv '(** (* x y) x) 'x)))"
   ]
  },
  {
   "cell_type": "markdown",
   "metadata": {},
   "source": [
    "## Credits \n",
    "\n",
    "This exercise was taken from chapter 2, section [2.3.2](https://mitpress.mit.edu/sites/default/files/sicp/full-text/book/book-Z-H-16.html#%_sec_2.3.2), of “Structure and Interpretation of Computer Programs”, second edition, by Harold Abelson, Gerald Jay Sussman, and Julie Sussman, published by The MIT Press."
   ]
  }
 ],
 "metadata": {
  "kernelspec": {
   "display_name": "Clojure (clojupyter=0.3.2=1)",
   "language": "clojure",
   "name": "conda-clojupyter"
  },
  "language_info": {
   "file_extension": ".clj",
   "mimetype": "text/x-clojure",
   "name": "clojure",
   "version": "1.10.1"
  }
 },
 "nbformat": 4,
 "nbformat_minor": 4
}
