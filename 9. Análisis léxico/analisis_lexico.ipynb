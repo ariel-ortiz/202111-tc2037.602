{
 "cells": [
  {
   "cell_type": "markdown",
   "metadata": {},
   "source": [
    "# Análisis léxico"
   ]
  },
  {
   "cell_type": "code",
   "execution_count": 1,
   "metadata": {},
   "outputs": [
    {
     "data": {
      "text/plain": [
       "#'user/entrada"
      ]
     },
     "execution_count": 1,
     "metadata": {},
     "output_type": "execute_result"
    }
   ],
   "source": [
    "(def entrada (slurp \"ejemplo.txt\"))"
   ]
  },
  {
   "cell_type": "code",
   "execution_count": 2,
   "metadata": {},
   "outputs": [
    {
     "data": {
      "text/plain": [
       "#'user/regex"
      ]
     },
     "execution_count": 2,
     "metadata": {},
     "output_type": "execute_result"
    }
   ],
   "source": [
    "(def regex #\"(?xi)\n",
    "    ( [+-]? \\d+ [.] \\d* (?: e [+-]? \\d+)? )  # Grupo 1: Flotante\n",
    "  | ( \\d+ )                                  # Grupo 2: Entero\n",
    "  | ( // .* )                                # Grupo 3: Comentario\n",
    "  | ( [a-z] \\w* )                            # Grupo 4: Variable\n",
    "  | ( [=] )                                  # Grupo 5: Asignación\n",
    "  | ( [+] )                                  # Grupo 6: Suma\n",
    "  | ( [-] )                                  # Grupo 7: Resta\n",
    "  | ( [*] )                                  # Grupo 8: Multiplicación\n",
    "  | ( [/] )                                  # Grupo 9: División\n",
    "  | ( \\^ )                                   # Grupo 10: Potencia\n",
    "  | ( [(] )                                  # Grupo 11: Paréntesis que abre\n",
    "  | ( [)] )                                  # Grupo 12: Paréntesis que cierra\n",
    "  | ( \\s )                                   # Grupo 13: Espacios\n",
    "  | ( . )                                    # Grupo 14: Carácter inválido\n",
    "  \")"
   ]
  },
  {
   "cell_type": "code",
   "execution_count": 3,
   "metadata": {},
   "outputs": [
    {
     "data": {
      "text/plain": [
       "#'user/resultado"
      ]
     },
     "execution_count": 3,
     "metadata": {},
     "output_type": "execute_result"
    }
   ],
   "source": [
    "(def resultado\n",
    "  (->> (re-seq regex entrada)\n",
    "       (filter (fn [match] (not (match 13))))\n",
    "       (map (fn [match]\n",
    "              (let [token (match 0)]\n",
    "                (cond\n",
    "                  (match 1) [token \"Flotante\"]\n",
    "                  (match 2) [token \"Entero\"]\n",
    "                  (match 3) [token \"Comentario\"]\n",
    "                  (match 4) [token \"Variable\"]\n",
    "                  (match 5) [token \"Asignación\"]\n",
    "                  (match 6) [token \"Sum\"]\n",
    "                  (match 7) [token \"Resta\"]\n",
    "                  (match 8) [token \"Multiplicación\"]\n",
    "                  (match 9) [token \"División\"]\n",
    "                  (match 10) [token \"Potencia\"]\n",
    "                  (match 11) [token \"Paréntesis que abre\"]\n",
    "                  (match 12) [token \"Paréntesis que cierra\"]\n",
    "                  (match 14) [token \"Carácter inválido\"]))))))"
   ]
  },
  {
   "cell_type": "code",
   "execution_count": 4,
   "metadata": {},
   "outputs": [
    {
     "name": "stdout",
     "output_type": "stream",
     "text": [
      "[\"b\" \"Variable\"]\n",
      "[\"=\" \"Asignación\"]\n",
      "[\"7\" \"Entero\"]\n",
      "[\"a\" \"Variable\"]\n",
      "[\"=\" \"Asignación\"]\n",
      "[\"32.4\" \"Flotante\"]\n",
      "[\"*\" \"Multiplicación\"]\n",
      "[\"(\" \"Paréntesis que abre\"]\n",
      "[\"-8.6\" \"Flotante\"]\n",
      "[\"-\" \"Resta\"]\n",
      "[\"b\" \"Variable\"]\n",
      "[\")\" \"Paréntesis que cierra\"]\n",
      "[\"/\" \"División\"]\n",
      "[\"6.1E-8\" \"Flotante\"]\n",
      "[\"d\" \"Variable\"]\n",
      "[\"=\" \"Asignación\"]\n",
      "[\"a\" \"Variable\"]\n",
      "[\"^\" \"Potencia\"]\n",
      "[\"b\" \"Variable\"]\n",
      "[\"// Esto es un comentario\" \"Comentario\"]\n"
     ]
    },
    {
     "data": {
      "text/plain": [
       "nil"
      ]
     },
     "execution_count": 4,
     "metadata": {},
     "output_type": "execute_result"
    }
   ],
   "source": [
    "(doseq [r resultado]\n",
    "  (prn r))"
   ]
  }
 ],
 "metadata": {
  "kernelspec": {
   "display_name": "Clojure (clojupyter=0.3.2=1)",
   "language": "clojure",
   "name": "conda-clojupyter"
  },
  "language_info": {
   "file_extension": ".clj",
   "mimetype": "text/x-clojure",
   "name": "clojure",
   "version": "1.10.1"
  }
 },
 "nbformat": 4,
 "nbformat_minor": 4
}
