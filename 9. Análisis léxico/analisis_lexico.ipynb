{
 "cells": [
  {
   "cell_type": "markdown",
   "metadata": {},
   "source": [
    "# Análisis léxico"
   ]
  },
  {
   "cell_type": "code",
   "execution_count": 1,
   "metadata": {},
   "outputs": [
    {
     "data": {
      "text/plain": [
       "#'user/regex"
      ]
     },
     "execution_count": 1,
     "metadata": {},
     "output_type": "execute_result"
    }
   ],
   "source": [
    "(def regex #\"(?xi)\n",
    "    ( [+-]? \\d+ [.] \\d* (?: e [+-]? \\d+)? )  # Grupo 1: Flotante\n",
    "  | ( \\d+ )                                  # Grupo 2: Entero\n",
    "  | ( // .* )                                # Grupo 3: Comentario\n",
    "  | ( [a-z] \\w* )                            # Grupo 4: Variable\n",
    "  | ( [=] )                                  # Grupo 5: Asignación\n",
    "  | ( [+] )                                  # Grupo 6: Suma\n",
    "  | ( [-] )                                  # Grupo 7: Resta\n",
    "  | ( [*] )                                  # Grupo 8: Multiplicación\n",
    "  | ( [/] )                                  # Grupo 9: División\n",
    "  | ( \\^ )                                   # Grupo 10: Potencia\n",
    "  | ( [(] )                                  # Grupo 11: Paréntesis que abre\n",
    "  | ( [)] )                                  # Grupo 12: Paréntesis que cierra\n",
    "  | ( \\s )                                   # Grupo 13: Espacios\n",
    "  | ( . )                                    # Grupo 14: Carácter inválido\n",
    "  \")"
   ]
  },
  {
   "cell_type": "code",
   "execution_count": 2,
   "metadata": {},
   "outputs": [
    {
     "data": {
      "text/plain": [
       "#'user/tokenize-file"
      ]
     },
     "execution_count": 2,
     "metadata": {},
     "output_type": "execute_result"
    }
   ],
   "source": [
    "(defn tokenize-file\n",
    "  [file-name]\n",
    "  (->> (re-seq regex (slurp file-name))\n",
    "       (remove (fn [match] (match 13)))\n",
    "       (map (fn [match]\n",
    "              (let [token (match 0)]\n",
    "                (cond\n",
    "                  (match 1) [token \"Flotante\"]\n",
    "                  (match 2) [token \"Entero\"]\n",
    "                  (match 3) [token \"Comentario\"]\n",
    "                  (match 4) [token \"Variable\"]\n",
    "                  (match 5) [token \"Asignación\"]\n",
    "                  (match 6) [token \"Sum\"]\n",
    "                  (match 7) [token \"Resta\"]\n",
    "                  (match 8) [token \"Multiplicación\"]\n",
    "                  (match 9) [token \"División\"]\n",
    "                  (match 10) [token \"Potencia\"]\n",
    "                  (match 11) [token \"Paréntesis que abre\"]\n",
    "                  (match 12) [token \"Paréntesis que cierra\"]\n",
    "                  (match 14) [token \"Carácter inválido\"]))))))"
   ]
  },
  {
   "cell_type": "code",
   "execution_count": 3,
   "metadata": {},
   "outputs": [
    {
     "data": {
      "text/plain": [
       "#'user/table-lines"
      ]
     },
     "execution_count": 3,
     "metadata": {},
     "output_type": "execute_result"
    }
   ],
   "source": [
    "(defn table-lines\n",
    "  [file-name]\n",
    "  (->> (tokenize-file file-name)\n",
    "       (map (fn [t] (format \"%-30s%s\" (t 0) (t 1))))))"
   ]
  },
  {
   "cell_type": "code",
   "execution_count": 4,
   "metadata": {},
   "outputs": [
    {
     "data": {
      "text/plain": [
       "#'user/line"
      ]
     },
     "execution_count": 4,
     "metadata": {},
     "output_type": "execute_result"
    }
   ],
   "source": [
    "(defn line\n",
    "  [character size]\n",
    "  (clojure.string/join \"\" (repeat size character)))"
   ]
  },
  {
   "cell_type": "code",
   "execution_count": 5,
   "metadata": {},
   "outputs": [
    {
     "data": {
      "text/plain": [
       "#'user/table-string"
      ]
     },
     "execution_count": 5,
     "metadata": {},
     "output_type": "execute_result"
    }
   ],
   "source": [
    "(defn table-string\n",
    "  [file-name]\n",
    "  (clojure.string/join \\newline\n",
    "                       (concat [(line \\= 55)]\n",
    "                               [(format \"%-30s%s\" \"Token\" \"Tipo\")]\n",
    "                               [(line \\= 55)]\n",
    "                               (table-lines file-name)\n",
    "                               [(line \\= 55)])))"
   ]
  },
  {
   "cell_type": "code",
   "execution_count": 6,
   "metadata": {},
   "outputs": [
    {
     "data": {
      "text/plain": [
       "#'user/print-token-table"
      ]
     },
     "execution_count": 6,
     "metadata": {},
     "output_type": "execute_result"
    }
   ],
   "source": [
    "(defn print-token-table\n",
    "  [file-name]\n",
    "  (println (table-string file-name)))"
   ]
  },
  {
   "cell_type": "code",
   "execution_count": 7,
   "metadata": {},
   "outputs": [
    {
     "name": "stdout",
     "output_type": "stream",
     "text": [
      "=======================================================\n",
      "Token                         Tipo\n",
      "=======================================================\n",
      "b                             Variable\n",
      "=                             Asignación\n",
      "7                             Entero\n",
      "a                             Variable\n",
      "=                             Asignación\n",
      "32.4                          Flotante\n",
      "*                             Multiplicación\n",
      "(                             Paréntesis que abre\n",
      "-8.6                          Flotante\n",
      "-                             Resta\n",
      "b                             Variable\n",
      ")                             Paréntesis que cierra\n",
      "/                             División\n",
      "6.1E-8                        Flotante\n",
      "d                             Variable\n",
      "=                             Asignación\n",
      "a                             Variable\n",
      "^                             Potencia\n",
      "b                             Variable\n",
      "// Esto es un comentario muy muy muy largoooooooooooComentario\n",
      "=======================================================\n"
     ]
    },
    {
     "data": {
      "text/plain": [
       "nil"
      ]
     },
     "execution_count": 7,
     "metadata": {},
     "output_type": "execute_result"
    }
   ],
   "source": [
    "(print-token-table \"ejemplo.txt\")"
   ]
  },
  {
   "cell_type": "code",
   "execution_count": 8,
   "metadata": {},
   "outputs": [
    {
     "data": {
      "text/plain": [
       "#'user/file-token-table"
      ]
     },
     "execution_count": 8,
     "metadata": {},
     "output_type": "execute_result"
    }
   ],
   "source": [
    "(defn file-token-table\n",
    "  [input-file output-file]\n",
    "  (spit output-file (table-string input-file)))"
   ]
  },
  {
   "cell_type": "code",
   "execution_count": 9,
   "metadata": {},
   "outputs": [
    {
     "data": {
      "text/plain": [
       "nil"
      ]
     },
     "execution_count": 9,
     "metadata": {},
     "output_type": "execute_result"
    }
   ],
   "source": [
    "(file-token-table \"ejemplo.txt\" \"salida.txt\")"
   ]
  }
 ],
 "metadata": {
  "kernelspec": {
   "display_name": "Clojure (clojupyter=0.3.2=1)",
   "language": "clojure",
   "name": "conda-clojupyter"
  },
  "language_info": {
   "file_extension": ".clj",
   "mimetype": "text/x-clojure",
   "name": "clojure",
   "version": "1.10.1"
  }
 },
 "nbformat": 4,
 "nbformat_minor": 4
}